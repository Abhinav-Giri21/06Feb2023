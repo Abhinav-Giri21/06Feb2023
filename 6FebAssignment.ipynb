{
 "cells": [
  {
   "cell_type": "code",
   "execution_count": 22,
   "id": "d1be45a9-555d-41b7-9b1b-c31e4738aee9",
   "metadata": {},
   "outputs": [
    {
     "name": "stdout",
     "output_type": "stream",
     "text": [
      "[1, 2, 3, 4, 44, 55, 66, True, False, 34, 56, 78, 89, 34, 1, 2, 3, 1, 34, 55, 67, 78, 89, 4, 45, 22, 61, 34, 56]\n",
      "4134711838987085478833841242112000\n"
     ]
    }
   ],
   "source": [
    "def product(list1):\n",
    "    lst=[]\n",
    "    for item in list1:\n",
    "        if isinstance(item,(int,float)):\n",
    "            lst.append(item)\n",
    "        elif isinstance(item,list) or isinstance(item,tuple) or isinstance(item,set):\n",
    "            lst.extend([i for i in item if isinstance(i, (int, float))])\n",
    "        elif isinstance(item, dict):\n",
    "            for key,value in item.items():\n",
    "                if isinstance(key,(int,float)):\n",
    "                    lst.append(key)\n",
    "                if isinstance(value,(int,float)):\n",
    "                    lst.append(value)\n",
    "                elif isinstance(value,list) or isinstance(value,tuple) or isinstance(value,set):\n",
    "                    lst.extend([i for i in value if isinstance(i,(int,float))])\n",
    "    print(lst)\n",
    "    p=1\n",
    "    for x in lst:\n",
    "        if isinstance(x,(int,float)) and not isinstance(x,bool):\n",
    "            p=p*x\n",
    "    return p\n",
    "\n",
    "print(product([1,2,3,4, [44,55,66, True], False, (34,56,78,89,34), {1,2,3,3,2,1}, {1:34, \"key2\": [55, 67, 78, 89], 4: (45,22, 61, 34)}, [56, 'data science'], 'Machine Learning']))\n",
    "\n"
   ]
  },
  {
   "cell_type": "code",
   "execution_count": 2,
   "id": "f5b8e482-ee4e-440c-8406-07aaef75d46f",
   "metadata": {},
   "outputs": [
    {
     "name": "stdin",
     "output_type": "stream",
     "text": [
      "Enter a sentence: I want to become a Data Scientist\n"
     ]
    },
    {
     "name": "stdout",
     "output_type": "stream",
     "text": [
      "I$wznt$to$yexome$z$Dztz$Sxientist\n"
     ]
    }
   ],
   "source": [
    "a=input(\"Enter a sentence:\")\n",
    "a.lower()\n",
    "string=''\n",
    "for x in a:\n",
    "    if(x=='a'):\n",
    "        string+='z'\n",
    "    elif(x=='b'):\n",
    "        string+='y'\n",
    "    elif(x=='c'):\n",
    "        string+='x'\n",
    "    elif(x==' '):\n",
    "        string+='$'\n",
    "    else:\n",
    "        string+=x\n",
    "print(string)"
   ]
  }
 ],
 "metadata": {
  "kernelspec": {
   "display_name": "Python 3 (ipykernel)",
   "language": "python",
   "name": "python3"
  },
  "language_info": {
   "codemirror_mode": {
    "name": "ipython",
    "version": 3
   },
   "file_extension": ".py",
   "mimetype": "text/x-python",
   "name": "python",
   "nbconvert_exporter": "python",
   "pygments_lexer": "ipython3",
   "version": "3.10.8"
  }
 },
 "nbformat": 4,
 "nbformat_minor": 5
}
